{
  "cells": [
    {
      "cell_type": "markdown",
      "metadata": {
        "id": "view-in-github",
        "colab_type": "text"
      },
      "source": [
        "<a href=\"https://colab.research.google.com/github/Prishita60/data-science/blob/main/DS_2(SVM).ipynb\" target=\"_parent\"><img src=\"https://colab.research.google.com/assets/colab-badge.svg\" alt=\"Open In Colab\"/></a>"
      ]
    },
    {
      "cell_type": "code",
      "execution_count": null,
      "metadata": {
        "id": "1Ol9EU76ZYi_"
      },
      "outputs": [],
      "source": [
        "#linear models:\n",
        "\n",
        "#assumptions:\n",
        "\n",
        "#y=(B0+B1x+B2x2) or y=mx+c (whre x and c independent)=>(overfit(beta ghataune is solution) and underfit(sol beta badaune))\n",
        "#maximal margin classifier(super sensitive to outliers) c= missclassifictaion parameter\n",
        "#high bias => low varience (or error) and vice versa\n",
        "#SVC=> support vector classifier allows misclassifictaio so overal accuracy is high\n",
        "#2D: decision boundary is line 3D decision boundary is :plane 1D: point\n",
        "\n",
        "#SVM: non linear data in which the misclassification is very high tgen we use SVM\n",
        "#increase the dimension is solution i.e changa 1d to 2d or 3d using kernel then use support vector classifier .\n",
        "#kernel is hyperparameter => lower dimension data to upper dimension which makes it lineraly seperaple and can use SVC.there are many kernel functions"
      ]
    },
    {
      "cell_type": "code",
      "execution_count": null,
      "metadata": {
        "colab": {
          "base_uri": "https://localhost:8080/"
        },
        "id": "7veEmNKQjpFq",
        "outputId": "478decf9-ff27-4d7a-a9be-40cfa79b79ec"
      },
      "outputs": [
        {
          "output_type": "execute_result",
          "data": {
            "text/plain": [
              "Index(['row.names', 'sbp', 'tobacco', 'ldl', 'adiposity', 'famhist', 'typea',\n",
              "       'obesity', 'alcohol', 'age', 'chd'],\n",
              "      dtype='object')"
            ]
          },
          "metadata": {},
          "execution_count": 5
        }
      ],
      "source": [
        "import pandas as pd\n",
        "df=pd.read_csv('/content/sample_data/SAHeart.csv')\n",
        "df.columns\n"
      ]
    },
    {
      "cell_type": "code",
      "execution_count": null,
      "metadata": {
        "id": "90wlG0g2jv79"
      },
      "outputs": [],
      "source": [
        "x= df.drop([\"row.names\",\"famhist\",\"chd\"], axis=1)"
      ]
    },
    {
      "cell_type": "code",
      "execution_count": null,
      "metadata": {
        "id": "YiiPhLC_j-vI"
      },
      "outputs": [],
      "source": [
        "y=df.chd"
      ]
    },
    {
      "cell_type": "code",
      "execution_count": null,
      "metadata": {
        "id": "cl3grHM2kFku"
      },
      "outputs": [],
      "source": [
        "from sklearn.model_selection import train_test_split\n",
        "Xtrain, Xtest,ytrain,ytest = train_test_split(x,y,test_size=0.2, random_state=4444)"
      ]
    },
    {
      "cell_type": "code",
      "execution_count": null,
      "metadata": {
        "colab": {
          "base_uri": "https://localhost:8080/"
        },
        "id": "b2aPhpo6kojh",
        "outputId": "db677ab1-d3ac-4740-f66c-b54e675c8641"
      },
      "outputs": [
        {
          "output_type": "execute_result",
          "data": {
            "text/plain": [
              "(93, 8)"
            ]
          },
          "metadata": {},
          "execution_count": 9
        }
      ],
      "source": [
        "Xtrain.shape\n",
        "Xtest.shape"
      ]
    },
    {
      "cell_type": "code",
      "execution_count": null,
      "metadata": {
        "colab": {
          "base_uri": "https://localhost:8080/"
        },
        "id": "2wMSv3fKnRD8",
        "outputId": "ebd8964e-9d3e-42e9-8bd4-191552d7f199"
      },
      "outputs": [
        {
          "output_type": "stream",
          "name": "stdout",
          "text": [
            "[[50 15]\n",
            " [ 8 20]]\n",
            "0.7526881720430108\n",
            "chd\n",
            "0    302\n",
            "1    160\n",
            "Name: count, dtype: int64\n"
          ]
        },
        {
          "output_type": "stream",
          "name": "stderr",
          "text": [
            "/usr/local/lib/python3.10/dist-packages/sklearn/linear_model/_logistic.py:469: ConvergenceWarning: lbfgs failed to converge (status=1):\n",
            "STOP: TOTAL NO. of ITERATIONS REACHED LIMIT.\n",
            "\n",
            "Increase the number of iterations (max_iter) or scale the data as shown in:\n",
            "    https://scikit-learn.org/stable/modules/preprocessing.html\n",
            "Please also refer to the documentation for alternative solver options:\n",
            "    https://scikit-learn.org/stable/modules/linear_model.html#logistic-regression\n",
            "  n_iter_i = _check_optimize_result(\n"
          ]
        }
      ],
      "source": [
        "from sklearn.linear_model import LogisticRegression\n",
        "lr= LogisticRegression()\n",
        "lr.fit(Xtrain,ytrain) #model build\n",
        "\n",
        "#testing\n",
        "y_pred= lr.predict(Xtest)\n",
        "from sklearn.metrics import confusion_matrix\n",
        "print(confusion_matrix(y_pred,ytest))\n",
        "from sklearn.metrics import accuracy_score\n",
        "print(accuracy_score(y_pred, ytest))\n",
        "print(df.chd.value_counts()) #0:302, 1:160: class imbalnce :50%-50%\n",
        "                                                  #40%-60%-> threshold\n"
      ]
    },
    {
      "cell_type": "code",
      "execution_count": null,
      "metadata": {
        "colab": {
          "base_uri": "https://localhost:8080/"
        },
        "id": "8Glt2Q2emMzw",
        "outputId": "c0315a89-aa3f-4354-99c6-15584085c813"
      },
      "outputs": [
        {
          "output_type": "stream",
          "name": "stdout",
          "text": [
            "[[54 17]\n",
            " [ 4 18]]\n",
            "0.7741935483870968\n"
          ]
        }
      ],
      "source": [
        "from re import S\n",
        "#SVC:nNON LINERA MODEL\n",
        "from sklearn.svm import SVC\n",
        "\n",
        "#svc= SVC(C=10, kernel=\"poly\",degree=3) #c: misclassifiction/ regularization parameter\n",
        "svc= SVC(C=2000, kernel=\"rbf\") #c: misclassifiction/ regularization parameter\n",
        "\n",
        "#svc= SVC(C=1) #c: misclassifiction/ regularization parameter\n",
        "svc.fit(Xtrain,ytrain) #modelbuild\n",
        "\n",
        "#model test\n",
        "y_pred= svc.predict(Xtest)\n",
        "\n",
        "from sklearn.metrics import confusion_matrix\n",
        "print(confusion_matrix(y_pred,ytest))\n",
        "from sklearn.metrics import accuracy_score\n",
        "print(accuracy_score(y_pred, ytest))\n",
        "\n",
        "#kernel= linear,poly,rbf\n",
        "#fit:model build/train\n",
        "#predict: me=odel tedting\n",
        "#fit_transorm: model banauda bhand aagagi (preprocessing())"
      ]
    },
    {
      "cell_type": "code",
      "execution_count": null,
      "metadata": {
        "id": "CXNhYEsZoAvu"
      },
      "outputs": [],
      "source": [
        "#text mining:\n",
        "#SVM implement"
      ]
    },
    {
      "cell_type": "code",
      "execution_count": null,
      "metadata": {
        "id": "PaKHqUPknak9"
      },
      "outputs": [],
      "source": [
        "#cleaning x :\n",
        "import re\n",
        "corpus= []\n",
        "#\\w: word: A-za-z0-9\n",
        "#\\W:opposite of \\w\n",
        "for i in x:\n",
        "  i=str(i) #from bytes to string\n",
        "  i=i.lower()\n",
        "  i=re.sub(r\"\\W\",\" \", i) #punctuation\n",
        "  i=re.sub(r\"\\s+\",\" \",i) #extraspace #=>re matches pattern\n",
        "  corpus.append(i)"
      ]
    },
    {
      "cell_type": "code",
      "execution_count": null,
      "metadata": {
        "colab": {
          "base_uri": "https://localhost:8080/"
        },
        "id": "b6r-1kZPnuqO",
        "outputId": "d81bc117-f31f-4f71-f284-5a0f842d4316"
      },
      "outputs": [
        {
          "output_type": "execute_result",
          "data": {
            "text/plain": [
              "['sbp', 'tobacco', 'ldl', 'adiposity', 'typea', 'obesity', 'alcohol', 'age']"
            ]
          },
          "metadata": {},
          "execution_count": 13
        }
      ],
      "source": [
        "corpus"
      ]
    },
    {
      "cell_type": "code",
      "source": [
        "from sklearn.feature_extraction.text import CountVectorizer #1 import library #2 then make obect every time when using sklearn\n",
        "#!pip install nltk\n",
        "#nltk.downlOad()\n",
        "import nltk\n",
        "nltk.download('stopwords')\n",
        "from nltk.corpus import stopwords"
      ],
      "metadata": {
        "colab": {
          "base_uri": "https://localhost:8080/"
        },
        "id": "j9NmPYBQheUO",
        "outputId": "5aa1eda1-fce0-47f2-fcea-cc2d5a962d8f"
      },
      "execution_count": null,
      "outputs": [
        {
          "output_type": "stream",
          "name": "stderr",
          "text": [
            "[nltk_data] Downloading package stopwords to /root/nltk_data...\n",
            "[nltk_data]   Unzipping corpora/stopwords.zip.\n"
          ]
        }
      ]
    },
    {
      "cell_type": "code",
      "source": [
        "cv= CountVectorizer(max_features=10,min_df=1,max_df=0.6,stop_words=stopwords.words(\"english\"))\n"
      ],
      "metadata": {
        "id": "gmvz20zlhhCY"
      },
      "execution_count": null,
      "outputs": []
    },
    {
      "cell_type": "code",
      "source": [
        "cv.fit_transform(corpus).toarray()\n",
        "#cv.fit_transform(corpus).toarray().shape\n"
      ],
      "metadata": {
        "colab": {
          "base_uri": "https://localhost:8080/"
        },
        "id": "4w-xAhCriFGp",
        "outputId": "2b3b989e-fc1c-44ba-eb1b-c441cb7e0c66"
      },
      "execution_count": null,
      "outputs": [
        {
          "output_type": "execute_result",
          "data": {
            "text/plain": [
              "array([[0, 0, 0, 0, 0, 1, 0, 0],\n",
              "       [0, 0, 0, 0, 0, 0, 1, 0],\n",
              "       [0, 0, 0, 1, 0, 0, 0, 0],\n",
              "       [1, 0, 0, 0, 0, 0, 0, 0],\n",
              "       [0, 0, 0, 0, 0, 0, 0, 1],\n",
              "       [0, 0, 0, 0, 1, 0, 0, 0],\n",
              "       [0, 0, 1, 0, 0, 0, 0, 0],\n",
              "       [0, 1, 0, 0, 0, 0, 0, 0]])"
            ]
          },
          "metadata": {},
          "execution_count": 24
        }
      ]
    },
    {
      "cell_type": "code",
      "execution_count": null,
      "metadata": {
        "id": "JfvstCySn4w7"
      },
      "outputs": [],
      "source": [
        "#tfidf model\n",
        "from sklearn.feature_extraction.text import TfidfVectorizer\n",
        "import nltk\n",
        "from nltk.corpus import stopwords"
      ]
    },
    {
      "cell_type": "code",
      "execution_count": null,
      "metadata": {
        "id": "Gj6UlW41n7P_"
      },
      "outputs": [],
      "source": [
        "cv= TfidfVectorizer(max_features=5,min_df=1,max_df=0.9,stop_words=stopwords.words(\"english\"))\n"
      ]
    },
    {
      "cell_type": "code",
      "source": [
        "X= cv.fit_transform(corpus).toarray()\n"
      ],
      "metadata": {
        "id": "xTclVl8QnceO"
      },
      "execution_count": null,
      "outputs": []
    },
    {
      "cell_type": "code",
      "source": [
        "#SVM\n",
        "from sklearn.svm import SVC\n",
        "svc= SVC(C=10, kernel=\"rbf\") #poly, linera data dimensio -> higher dimension\n",
        "\n",
        "svc.fit(Xtrain,ytrain) #training\n",
        "\n",
        "#predict\n",
        "y_pred= svc.predict(Xtest) #svm\n",
        "from sklearn.metrics import confusion_matrix\n",
        "confusion_matrix(y_pred,ytest)\n",
        "\n"
      ],
      "metadata": {
        "colab": {
          "base_uri": "https://localhost:8080/"
        },
        "id": "P4neOLiGjAvt",
        "outputId": "7439b7c8-9563-4eb7-f026-bf95157d86ec"
      },
      "execution_count": null,
      "outputs": [
        {
          "output_type": "execute_result",
          "data": {
            "text/plain": [
              "array([[55, 25],\n",
              "       [ 3, 10]])"
            ]
          },
          "metadata": {},
          "execution_count": 27
        }
      ]
    },
    {
      "cell_type": "code",
      "source": [
        "import sklearn.metrics as metrics\n",
        "from sklearn.metrics import accuracy_score\n",
        "#print(metrics.classification_report(y_pred,ytest))\n",
        "\n",
        "accuracy_score(y_pred,ytest)"
      ],
      "metadata": {
        "colab": {
          "base_uri": "https://localhost:8080/"
        },
        "id": "_DteS7uRka7K",
        "outputId": "7b8faee3-01ce-4a96-d153-2d84b5d60c76"
      },
      "execution_count": null,
      "outputs": [
        {
          "output_type": "execute_result",
          "data": {
            "text/plain": [
              "0.6989247311827957"
            ]
          },
          "metadata": {},
          "execution_count": 33
        }
      ]
    },
    {
      "cell_type": "code",
      "source": [
        "#f1-score\n",
        "\n",
        "cm= confusion_matrix(y_pred,ytest)\n",
        "TP=cm[0][0] #166\n",
        "TN=cm[1][1]\n",
        "FN=cm[1][0]\n",
        "FP=cm[0][1]\n",
        "precision= TP/(TP+FP)\n",
        "recall= TP/(TP+FN)\n",
        "f1_score= 2*(precision*recall)/(precision+recall)\n",
        "print(precision)\n",
        "print(recall)\n",
        "print(f1_score)\n"
      ],
      "metadata": {
        "colab": {
          "base_uri": "https://localhost:8080/"
        },
        "id": "eFL2zFLrlQOq",
        "outputId": "9d482542-e9ec-485b-935d-6b7c3a49d70b"
      },
      "execution_count": null,
      "outputs": [
        {
          "output_type": "stream",
          "name": "stdout",
          "text": [
            "0.6875\n",
            "0.9482758620689655\n",
            "0.7971014492753623\n"
          ]
        }
      ]
    }
  ],
  "metadata": {
    "colab": {
      "provenance": [],
      "authorship_tag": "ABX9TyMZ/xP8IIAAYDi4HdoPcmQt",
      "include_colab_link": true
    },
    "kernelspec": {
      "display_name": "Python 3",
      "name": "python3"
    },
    "language_info": {
      "name": "python"
    }
  },
  "nbformat": 4,
  "nbformat_minor": 0
}